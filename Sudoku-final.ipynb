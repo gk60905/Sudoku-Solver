{
 "cells": [
  {
   "cell_type": "code",
   "execution_count": 1,
   "metadata": {},
   "outputs": [],
   "source": [
    "import cv2 as cv\n",
    "from imutils import perspective\n",
    "import numpy as np\n",
    "import matplotlib.pyplot as plt\n",
    "import tensorflow as tf\n",
    "import sudoku_solver as ss\n",
    "model = tf.keras.models.load_model('digitRecognizer-v2.model')\n",
    "%matplotlib qt"
   ]
  },
  {
   "cell_type": "code",
   "execution_count": 9,
   "metadata": {},
   "outputs": [],
   "source": [
    "#Load image and apply gaussian blur\n",
    "def image_preprocess(path):\n",
    "    '''Load image, preprocess and apply edge detection.\n",
    "        Returns the threshholded image, grayscale image and original image'''\n",
    "    img = cv.imread(path)\n",
    "    gray = cv.cvtColor(img, cv.COLOR_BGR2GRAY)\n",
    "    gblur = cv.GaussianBlur(gray, (9,9), 0)\n",
    "    thresh = cv.adaptiveThreshold(gblur, 255, cv.ADAPTIVE_THRESH_GAUSSIAN_C, cv.THRESH_BINARY_INV, 11, 2)\n",
    "    return thresh, gray, img\n",
    "    # cv.imshow('thresh', thresh)\n",
    "    # cv.imshow('gblur', gblur)\n",
    "    # cv.waitKey(0)\n",
    "    # cv.destroyAllWindows()"
   ]
  },
  {
   "cell_type": "code",
   "execution_count": 3,
   "metadata": {},
   "outputs": [],
   "source": [
    "#Find the 4-sided contour with largest area and map it to a square of 450x450\n",
    "def find_grid(thresh, gray, img):\n",
    "    '''Finds the sudoku grid in the threshholded image, returns grayscale, color versions of the warped image\n",
    "        and the homography matrix'''\n",
    "    contours, _ = cv.findContours(thresh, cv.RETR_TREE, cv.CHAIN_APPROX_SIMPLE)\n",
    "    max_area = 0\n",
    "    max_rect = 0\n",
    "    for contour in contours:\n",
    "        approx = cv.approxPolyDP(contour, 0.01*cv.arcLength(contour, True), True)\n",
    "        if len(approx) == 4:\n",
    "            area = cv.contourArea(approx)\n",
    "            if area > max_area:\n",
    "                max_area = area\n",
    "                max_rect = approx\n",
    "    pts1 = np.squeeze(max_rect).tolist()\n",
    "    pts1 = np.float32(pts1)\n",
    "    pts1 = perspective.order_points(pts1)\n",
    "    pts2 = np.float32([[0,0], [450, 0], [450,450], [0,450]])\n",
    "    matrix = cv.getPerspectiveTransform(pts1, pts2)\n",
    "    result = cv.warpPerspective(gray, matrix, (450, 450))\n",
    "    color_result = cv.warpPerspective(img, matrix, (450, 450))\n",
    "    return result, color_result, matrix\n",
    "#     cv.imshow('result', result)\n",
    "#     cv.imshow('contours', gray)\n",
    "#     cv.waitKey(0)\n",
    "#     cv.destroyAllWindows()"
   ]
  },
  {
   "cell_type": "code",
   "execution_count": 4,
   "metadata": {},
   "outputs": [],
   "source": [
    "# If the number of white pixels is greater than threshold value then they contain digits\n",
    "def find_digits(roi, threshold = 100):    \n",
    "    '''Finds digits in the cropped images, if the number of white pixels is greater \n",
    "        than threshold value then they contain digits, returns the digits and their indices'''\n",
    "    digits = []\n",
    "    idx = []\n",
    "    for i in range(81):\n",
    "        num_white_pixels = np.sum(roi[i] == 255)\n",
    "        if num_white_pixels > threshold:\n",
    "            digits.append(cv.bitwise_not(roi[i]).reshape(40,40,1))\n",
    "            idx.append(i)\n",
    "    return digits, idx\n",
    "#       for digit in digits:\n",
    "#           cv.imshow('', digit)\n",
    "#           cv.waitKey(0)\n",
    "#           cv.destroyAllWindows()"
   ]
  },
  {
   "cell_type": "code",
   "execution_count": 5,
   "metadata": {},
   "outputs": [],
   "source": [
    "def predict_and_solve(digits, idx, plot_predictions = False):\n",
    "    '''Predicts the digits, forms the sudoku grid and returns it'''\n",
    "    predictions = []\n",
    "    for digit in digits:\n",
    "        predictions.append(int(model.predict_classes(digit.reshape(-1,40,40,1)/255.)))\n",
    "    grid = ss.build_grid(predictions, idx)\n",
    "    ss.solve(grid)\n",
    "    \n",
    "    if plot_predictions:\n",
    "        plt.figure()\n",
    "        for i in range(len(digits)):\n",
    "            plt.subplot(6, 6, i+1), plt.imshow(digits[i].reshape(40,40))\n",
    "            plt.title(predictions[i])\n",
    "            plt.axis('off')\n",
    "        plt.plot()\n",
    "    \n",
    "    return grid"
   ]
  },
  {
   "cell_type": "code",
   "execution_count": 6,
   "metadata": {},
   "outputs": [],
   "source": [
    "def solve_in_image(color_result, grid, indices, squares):\n",
    "    '''Using answers in grid it writes the result onto the warped image, indices are required to \n",
    "        check whether digit already existed there or not'''\n",
    "    for i in range(81):\n",
    "        if i in indices: continue\n",
    "        row = int(i/9)\n",
    "        col = i%9\n",
    "        x, y = squares[i]\n",
    "        cv.putText(color_result[y+5:y+45, x+5:x+45], f'{grid[row][col]}', (10,30), cv.FONT_HERSHEY_SIMPLEX, 1, (255, 0, 0), 2, cv.LINE_AA)"
   ]
  },
  {
   "cell_type": "code",
   "execution_count": 10,
   "metadata": {},
   "outputs": [],
   "source": [
    "def solve_the_sudoku(path):\n",
    "    '''Give image path, returns the solved sudoku'''\n",
    "    thresh, gray, img = image_preprocess(path)\n",
    "    result, color_result, matrix = find_grid(thresh, gray, img)\n",
    "\n",
    "    # Get top-left coordinates of each square\n",
    "    squares = []\n",
    "    for i in range(9):\n",
    "        for j in range(9):\n",
    "            p1 = (j*50, i*50)\n",
    "            squares.append(p1)\n",
    "\n",
    "    # Crop the square\n",
    "    thresh = cv.adaptiveThreshold(result, 255, cv.ADAPTIVE_THRESH_MEAN_C, cv.THRESH_BINARY_INV, 11, 5)\n",
    "    roi = []\n",
    "    color_roi = []\n",
    "    for x, y in squares:\n",
    "        roi.append(cv.morphologyEx(thresh[y+5:y+45, x+5:x+45], cv.MORPH_OPEN, np.ones((2,2), np.uint8)))\n",
    "        color_roi.append(color_result[y+5:y+45, x+5:x+45])\n",
    "\n",
    "    digits, indices = find_digits(roi)\n",
    "    grid = predict_and_solve(digits, indices)\n",
    "    solve_in_image(color_result, grid, indices, squares)\n",
    "    #Reverse warp the result\n",
    "    answer = img.copy()\n",
    "    result = cv.warpPerspective(color_result, matrix, img.shape[:2][::-1], answer, cv.WARP_INVERSE_MAP, borderMode=cv.BORDER_TRANSPARENT)\n",
    "    return answer"
   ]
  },
  {
   "cell_type": "code",
   "execution_count": 15,
   "metadata": {},
   "outputs": [],
   "source": [
    "path = 'sudoku.jfif'\n",
    "answer = solve_the_sudoku(path)\n",
    "cv.imshow('original', cv.imread(path))\n",
    "cv.imshow('answer', answer)\n",
    "cv.waitKey(0)\n",
    "cv.destroyAllWindows()"
   ]
  },
  {
   "cell_type": "code",
   "execution_count": null,
   "metadata": {},
   "outputs": [],
   "source": []
  }
 ],
 "metadata": {
  "kernelspec": {
   "display_name": "Python 3",
   "language": "python",
   "name": "python3"
  },
  "language_info": {
   "codemirror_mode": {
    "name": "ipython",
    "version": 3
   },
   "file_extension": ".py",
   "mimetype": "text/x-python",
   "name": "python",
   "nbconvert_exporter": "python",
   "pygments_lexer": "ipython3",
   "version": "3.7.3"
  },
  "varInspector": {
   "cols": {
    "lenName": 16,
    "lenType": 16,
    "lenVar": 40
   },
   "kernels_config": {
    "python": {
     "delete_cmd_postfix": "",
     "delete_cmd_prefix": "del ",
     "library": "var_list.py",
     "varRefreshCmd": "print(var_dic_list())"
    },
    "r": {
     "delete_cmd_postfix": ") ",
     "delete_cmd_prefix": "rm(",
     "library": "var_list.r",
     "varRefreshCmd": "cat(var_dic_list()) "
    }
   },
   "position": {
    "height": "539.667px",
    "left": "429.333px",
    "right": "20px",
    "top": "-8px",
    "width": "800px"
   },
   "types_to_exclude": [
    "module",
    "function",
    "builtin_function_or_method",
    "instance",
    "_Feature"
   ],
   "window_display": false
  }
 },
 "nbformat": 4,
 "nbformat_minor": 2
}
