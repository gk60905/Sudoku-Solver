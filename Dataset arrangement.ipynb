{
 "cells": [
  {
   "cell_type": "code",
   "execution_count": 15,
   "metadata": {},
   "outputs": [],
   "source": [
    "# The downloaded subset of Chars74K dataset was contained in 10 folders.\n",
    "# This piece of code creates training and validation folders.\n",
    "# The images are then split and transferred into thier respective class name folders for ImageDataGenerator.\n",
    "# Original downloaded folder can then be deleted.\n",
    "import os\n",
    "import random\n",
    "import shutil"
   ]
  },
  {
   "cell_type": "code",
   "execution_count": 12,
   "metadata": {},
   "outputs": [],
   "source": [
    "# Make training and validation folders.\n",
    "try:\n",
    "    os.mkdir('Fnt/training')\n",
    "    os.mkdir('Fnt/validation')\n",
    "    for i in range(10):\n",
    "        os.mkdir(f'Fnt/training/{i}')\n",
    "        os.mkdir(f'Fnt/validation/{i}')\n",
    "except OSError:\n",
    "    pass"
   ]
  },
  {
   "cell_type": "code",
   "execution_count": 19,
   "metadata": {},
   "outputs": [],
   "source": [
    "def split_data(SOURCE, TRAINING, TESTING, SPLIT_SIZE):\n",
    "    '''Split data from source to training and testing'''\n",
    "    l = os.listdir(SOURCE)\n",
    "    random.sample(l, len(l))\n",
    "    training_size = int(len(l) * SPLIT_SIZE)\n",
    "    for item in l[:training_size]:\n",
    "        shutil.copyfile(SOURCE + item, TRAINING + item)\n",
    "    for item in l[training_size:]:\n",
    "        shutil.copyfile(SOURCE + item, TESTING + item)"
   ]
  },
  {
   "cell_type": "code",
   "execution_count": null,
   "metadata": {},
   "outputs": [],
   "source": [
    "split_size = 0.9\n",
    "for i in range(1, 11):\n",
    "    SOURCE = f'Fnt/Sample00{i}/'\n",
    "    TRAINING = f'Fnt/training/{i-1}/'\n",
    "    TESTING = f'Fnt/validation/{i-1}/'\n",
    "    split_data(SOURCE, TRAINING, TESTING, split_size)"
   ]
  }
 ],
 "metadata": {
  "kernelspec": {
   "display_name": "Python 3",
   "language": "python",
   "name": "python3"
  },
  "language_info": {
   "codemirror_mode": {
    "name": "ipython",
    "version": 3
   },
   "file_extension": ".py",
   "mimetype": "text/x-python",
   "name": "python",
   "nbconvert_exporter": "python",
   "pygments_lexer": "ipython3",
   "version": "3.7.3"
  },
  "varInspector": {
   "cols": {
    "lenName": 16,
    "lenType": 16,
    "lenVar": 40
   },
   "kernels_config": {
    "python": {
     "delete_cmd_postfix": "",
     "delete_cmd_prefix": "del ",
     "library": "var_list.py",
     "varRefreshCmd": "print(var_dic_list())"
    },
    "r": {
     "delete_cmd_postfix": ") ",
     "delete_cmd_prefix": "rm(",
     "library": "var_list.r",
     "varRefreshCmd": "cat(var_dic_list()) "
    }
   },
   "types_to_exclude": [
    "module",
    "function",
    "builtin_function_or_method",
    "instance",
    "_Feature"
   ],
   "window_display": false
  }
 },
 "nbformat": 4,
 "nbformat_minor": 2
}
