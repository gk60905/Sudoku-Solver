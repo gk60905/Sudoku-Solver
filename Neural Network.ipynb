{
 "cells": [
  {
   "cell_type": "code",
   "execution_count": 1,
   "metadata": {},
   "outputs": [],
   "source": [
    "import tensorflow as tf\n",
    "import numpy as np\n",
    "import matplotlib.pyplot as plt\n",
    "from tensorflow.keras.preprocessing.image import ImageDataGenerator"
   ]
  },
  {
   "cell_type": "code",
   "execution_count": 44,
   "metadata": {},
   "outputs": [],
   "source": [
    "from tensorflow.keras.layers import Conv2D as Conv2D\n",
    "from tensorflow.keras.layers import MaxPooling2D as MaxPooling2D\n",
    "from tensorflow.keras.layers import Dense as Dense\n",
    "from tensorflow.keras.layers import Flatten as Flatten\n",
    "from tensorflow.keras.layers import Dropout as Dropout\n",
    "\n",
    "model = tf.keras.models.Sequential([\n",
    "    Conv2D(16, (3,3), activation='relu', input_shape=(40,40,1)),\n",
    "    MaxPooling2D(2,2),\n",
    "    \n",
    "    Conv2D(32, (3,3), activation='relu'),\n",
    "    MaxPooling2D(2,2),\n",
    "    \n",
    "    #Conv2D(64, (3,3), activation='relu'),\n",
    "    #MaxPooling2D(2,2),\n",
    "    \n",
    "    Flatten(),\n",
    "    Dense(256, activation='relu'),\n",
    "    Dropout(0.2),\n",
    "    Dense(10, activation='softmax')\n",
    "])\n",
    "\n",
    "model.compile(optimizer='adam', loss='sparse_categorical_crossentropy', metrics=['accuracy'])"
   ]
  },
  {
   "cell_type": "code",
   "execution_count": 39,
   "metadata": {},
   "outputs": [
    {
     "name": "stdout",
     "output_type": "stream",
     "text": [
      "Found 9140 images belonging to 10 classes.\n",
      "Found 1020 images belonging to 10 classes.\n"
     ]
    }
   ],
   "source": [
    "TRAINING_DIR = 'Fnt/training/'\n",
    "VALIDATION_DIR = 'Fnt/validation/'\n",
    "\n",
    "train_datagen = ImageDataGenerator(rescale = 1/255.,\n",
    "                                  width_shift_range=0.2,\n",
    "                                  height_shift_range = 0.2,\n",
    "                                  fill_mode='nearest')\n",
    "train_generator = train_datagen.flow_from_directory(TRAINING_DIR,\n",
    "                                                    color_mode='grayscale',\n",
    "                                                   target_size=(40,40),\n",
    "                                                   batch_size=40,\n",
    "                                                   class_mode='sparse')\n",
    "val_datagen = ImageDataGenerator(rescale = 1/255.)\n",
    "val_generator = val_datagen.flow_from_directory(VALIDATION_DIR,\n",
    "                                                color_mode='grayscale',\n",
    "                                               target_size=(40,40),\n",
    "                                               batch_size=20,\n",
    "                                               class_mode='sparse')"
   ]
  },
  {
   "cell_type": "code",
   "execution_count": 45,
   "metadata": {},
   "outputs": [
    {
     "name": "stdout",
     "output_type": "stream",
     "text": [
      "WARNING:tensorflow:sample_weight modes were coerced from\n",
      "  ...\n",
      "    to  \n",
      "  ['...']\n",
      "WARNING:tensorflow:sample_weight modes were coerced from\n",
      "  ...\n",
      "    to  \n",
      "  ['...']\n",
      "Train for 229 steps, validate for 51 steps\n",
      "Epoch 1/10\n",
      "229/229 [==============================] - 17s 76ms/step - loss: 1.2427 - accuracy: 0.5838 - val_loss: 0.3384 - val_accuracy: 0.9000\n",
      "Epoch 2/10\n",
      "229/229 [==============================] - 17s 73ms/step - loss: 0.3647 - accuracy: 0.8900 - val_loss: 0.1912 - val_accuracy: 0.9382\n",
      "Epoch 3/10\n",
      "229/229 [==============================] - 17s 74ms/step - loss: 0.2406 - accuracy: 0.9232 - val_loss: 0.1711 - val_accuracy: 0.9510\n",
      "Epoch 4/10\n",
      "229/229 [==============================] - 17s 72ms/step - loss: 0.1878 - accuracy: 0.9404 - val_loss: 0.1291 - val_accuracy: 0.9618\n",
      "Epoch 5/10\n",
      "229/229 [==============================] - 17s 73ms/step - loss: 0.1541 - accuracy: 0.9509 - val_loss: 0.1383 - val_accuracy: 0.9657\n",
      "Epoch 6/10\n",
      "229/229 [==============================] - 17s 73ms/step - loss: 0.1519 - accuracy: 0.9512 - val_loss: 0.1419 - val_accuracy: 0.9578\n",
      "Epoch 7/10\n",
      "229/229 [==============================] - 17s 73ms/step - loss: 0.1351 - accuracy: 0.9568 - val_loss: 0.1139 - val_accuracy: 0.9618\n",
      "Epoch 8/10\n",
      "229/229 [==============================] - 17s 75ms/step - loss: 0.1154 - accuracy: 0.9612 - val_loss: 0.1054 - val_accuracy: 0.9706\n",
      "Epoch 9/10\n",
      "229/229 [==============================] - 17s 73ms/step - loss: 0.1108 - accuracy: 0.9633 - val_loss: 0.1128 - val_accuracy: 0.9647\n",
      "Epoch 10/10\n",
      "229/229 [==============================] - 17s 75ms/step - loss: 0.0993 - accuracy: 0.9667 - val_loss: 0.1047 - val_accuracy: 0.9657\n"
     ]
    }
   ],
   "source": [
    "history = model.fit_generator(train_generator,\n",
    "                             epochs=10,\n",
    "                             validation_data=val_generator)"
   ]
  },
  {
   "cell_type": "code",
   "execution_count": 46,
   "metadata": {},
   "outputs": [
    {
     "name": "stdout",
     "output_type": "stream",
     "text": [
      "INFO:tensorflow:Assets written to: digitRecognizer-v2.model\\assets\n"
     ]
    }
   ],
   "source": [
    "model.save('digitRecognizer-v2.model')"
   ]
  },
  {
   "cell_type": "code",
   "execution_count": 54,
   "metadata": {},
   "outputs": [],
   "source": [
    "l = np.array([[1,2,3,4], [5,6,7,8], [9,10,11,12], [13,14,15,16]])"
   ]
  }
 ],
 "metadata": {
  "kernelspec": {
   "display_name": "Python 3",
   "language": "python",
   "name": "python3"
  },
  "language_info": {
   "codemirror_mode": {
    "name": "ipython",
    "version": 3
   },
   "file_extension": ".py",
   "mimetype": "text/x-python",
   "name": "python",
   "nbconvert_exporter": "python",
   "pygments_lexer": "ipython3",
   "version": "3.7.3"
  },
  "varInspector": {
   "cols": {
    "lenName": 16,
    "lenType": 16,
    "lenVar": 40
   },
   "kernels_config": {
    "python": {
     "delete_cmd_postfix": "",
     "delete_cmd_prefix": "del ",
     "library": "var_list.py",
     "varRefreshCmd": "print(var_dic_list())"
    },
    "r": {
     "delete_cmd_postfix": ") ",
     "delete_cmd_prefix": "rm(",
     "library": "var_list.r",
     "varRefreshCmd": "cat(var_dic_list()) "
    }
   },
   "types_to_exclude": [
    "module",
    "function",
    "builtin_function_or_method",
    "instance",
    "_Feature"
   ],
   "window_display": false
  }
 },
 "nbformat": 4,
 "nbformat_minor": 2
}
